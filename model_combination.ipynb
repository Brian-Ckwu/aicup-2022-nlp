{
 "cells": [
  {
   "cell_type": "code",
   "execution_count": 1,
   "metadata": {},
   "outputs": [
    {
     "name": "stderr",
     "output_type": "stream",
     "text": [
      "2022-12-08 14:52:40.340828: I tensorflow/core/platform/cpu_feature_guard.cc:193] This TensorFlow binary is optimized with oneAPI Deep Neural Network Library (oneDNN) to use the following CPU instructions in performance-critical operations:  AVX2 FMA\n",
      "To enable them in other operations, rebuild TensorFlow with the appropriate compiler flags.\n",
      "2022-12-08 14:52:40.482146: E tensorflow/stream_executor/cuda/cuda_blas.cc:2981] Unable to register cuBLAS factory: Attempting to register factory for plugin cuBLAS when one has already been registered\n",
      "2022-12-08 14:52:41.255917: W tensorflow/stream_executor/platform/default/dso_loader.cc:64] Could not load dynamic library 'libnvinfer.so.7'; dlerror: libnvinfer.so.7: cannot open shared object file: No such file or directory\n",
      "2022-12-08 14:52:41.255988: W tensorflow/stream_executor/platform/default/dso_loader.cc:64] Could not load dynamic library 'libnvinfer_plugin.so.7'; dlerror: libnvinfer_plugin.so.7: cannot open shared object file: No such file or directory\n",
      "2022-12-08 14:52:41.255994: W tensorflow/compiler/tf2tensorrt/utils/py_utils.cc:38] TF-TRT Warning: Cannot dlopen some TensorRT libraries. If you would like to use Nvidia GPU with TensorRT, please make sure the missing libraries mentioned above are installed properly.\n"
     ]
    }
   ],
   "source": [
    "import pandas as pd\n",
    "from utils import *"
   ]
  },
  {
   "cell_type": "code",
   "execution_count": 2,
   "metadata": {},
   "outputs": [],
   "source": [
    "ans_df = pd.read_csv(\"/nfs/nas-6.1/wclu/AICUP/full_valid.csv\")\n",
    "max_q = 0\n",
    "max_r = 0"
   ]
  },
  {
   "cell_type": "code",
   "execution_count": 3,
   "metadata": {},
   "outputs": [
    {
     "name": "stdout",
     "output_type": "stream",
     "text": [
      "ckpt400 q_score: 0.40763342719677015 r_score: 0.42461873316277177\n",
      "ckpt600 q_score: 0.4132923237647221 r_score: 0.4255104838380309\n",
      "ckpt800 q_score: 0.41462833369885077 r_score: 0.4251512192573634\n",
      "ckpt1000 q_score: 0.42055276484403126 r_score: 0.42567992270945093\n",
      "ckpt1200 q_score: 0.4211159942476636 r_score: 0.4282665144641968\n",
      "ckpt1400 q_score: 0.41730438881022314 r_score: 0.42667509945358123\n",
      "ckpt1600 q_score: 0.4192010009340434 r_score: 0.4224954835939029\n",
      "ckpt1800 q_score: 0.4198293640004861 r_score: 0.4278395035039769\n",
      "ckpt2000 q_score: 0.416476962538265 r_score: 0.4288107756497183\n",
      "ckpt2200 q_score: 0.41661275703542766 r_score: 0.4252958940100563\n",
      "ckpt2400 q_score: 0.41923210908391034 r_score: 0.4314555594479848\n",
      "ckpt2600 q_score: 0.41798829787509156 r_score: 0.4277397935961429\n",
      "ckpt2800 q_score: 0.41267919794575614 r_score: 0.42949547127586635\n",
      "ckpt3000 q_score: 0.41392411742168206 r_score: 0.4302834130138141\n",
      "model for q: /nfs/nas-6.1/wclu/corrected_models/janeel/muppet-roberta-base-finetuned-squad-62+2-b_8-seed_26_1200, score: 0.4211159942476636\n",
      "model for r: /nfs/nas-6.1/wclu/corrected_models/janeel/muppet-roberta-base-finetuned-squad-62+2-b_8-seed_26_2400, score: 0.4314555594479848\n",
      "0.8074496662071736\n"
     ]
    }
   ],
   "source": [
    "path = \"/nfs/nas-6.1/wclu/corrected_models/janeel/muppet-roberta-base-finetuned-squad-62+2-b_8-seed_26\"\n",
    "for step in range(200, 3001, 200): \n",
    "    try:\n",
    "        pred_df = pd.read_csv(f\"{path}/checkpoint-{step}.csv\", names=['id', \"q'\", \"r'\"]).fillna(\"\")\n",
    "        q = pred_df[['id', \"q'\"]]\n",
    "        empty_r = pd.DataFrame(data={\"r'\": [\"\" for _ in range(1598)]})\n",
    "        r = pred_df[['id', \"r'\"]]\n",
    "        empty_q = pd.DataFrame(data={\"q'\": [\"\" for _ in range(1598)]})\n",
    "\n",
    "        q_frame=pd.concat([q, empty_r], axis=1).reset_index(drop=True)\n",
    "        r_frame=pd.concat([r, empty_q], axis=1).reset_index(drop=True)\n",
    "\n",
    "        lcs = compute_lcs_scores(q_frame, ans_df)\n",
    "        score_q = compute_final_score(lcs)\n",
    "\n",
    "        lcs = compute_lcs_scores(r_frame, ans_df)\n",
    "        score_r = compute_final_score(lcs)\n",
    "        if score_q >= max_q:\n",
    "            best_q = q\n",
    "            step_q = step\n",
    "            q_path = path\n",
    "            max_q = score_q\n",
    "        if score_r >= max_r:\n",
    "            best_r = r\n",
    "            step_r = step\n",
    "            r_path = path\n",
    "            max_r = score_r\n",
    "        print(f\"ckpt{step} q_score: {score_q} r_score: {score_r}\")\n",
    "    except:\n",
    "        continue\n",
    "\n",
    "best_pred = pd.concat([best_q, best_r[\"r'\"]], axis=1).reset_index(drop=True)\n",
    "lcs = compute_lcs_scores(best_pred, ans_df)\n",
    "score = compute_final_score(lcs)\n",
    "print(f\"model for q: {q_path}_{step_q}, score: {max_q}\")\n",
    "print(f\"model for r: {r_path}_{step_r}, score: {max_r}\")\n",
    "print(score)\n",
    "\n",
    "    "
   ]
  }
 ],
 "metadata": {
  "kernelspec": {
   "display_name": "Python 3.9.12 ('base')",
   "language": "python",
   "name": "python3"
  },
  "language_info": {
   "codemirror_mode": {
    "name": "ipython",
    "version": 3
   },
   "file_extension": ".py",
   "mimetype": "text/x-python",
   "name": "python",
   "nbconvert_exporter": "python",
   "pygments_lexer": "ipython3",
   "version": "3.9.12"
  },
  "orig_nbformat": 4,
  "vscode": {
   "interpreter": {
    "hash": "d4ce3243b9a7f7c51075d036f218bdfb28b4d876a50e1c44bb728886e3bec03f"
   }
  }
 },
 "nbformat": 4,
 "nbformat_minor": 2
}
